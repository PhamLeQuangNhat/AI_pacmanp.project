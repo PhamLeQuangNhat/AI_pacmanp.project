{
  "nbformat": 4,
  "nbformat_minor": 0,
  "metadata": {
    "colab": {
      "name": "Report_week3.ipynb",
      "provenance": [],
      "collapsed_sections": [],
      "toc_visible": true,
      "authorship_tag": "ABX9TyNqZi6pO9ckJNQp+oi6eiHP",
      "include_colab_link": true
    },
    "kernelspec": {
      "name": "python3",
      "display_name": "Python 3"
    }
  },
  "cells": [
    {
      "cell_type": "markdown",
      "metadata": {
        "id": "view-in-github",
        "colab_type": "text"
      },
      "source": [
        "<a href=\"https://colab.research.google.com/github/PhamLeQuangNhat/AI_project/blob/master/Assignments/week3/Report_week3.ipynb\" target=\"_parent\"><img src=\"https://colab.research.google.com/assets/colab-badge.svg\" alt=\"Open In Colab\"/></a>"
      ]
    },
    {
      "cell_type": "markdown",
      "metadata": {
        "id": "MAVzWgxCIO_Y"
      },
      "source": [
        "**<h1><center>BÀI TẬP TUẦN 3 (24/09)</center></h1>**"
      ]
    },
    {
      "cell_type": "markdown",
      "metadata": {
        "id": "p9DhIbZsInNs"
      },
      "source": [
        "# **Thông tin nhóm: ID: n001**\n",
        "\n",
        "1. Phạm Lê Quang Nhật   - 18520120\n",
        "2. Nguyễn Xuân Dương    - 18520212\n",
        "3. Trần Đình Khang        - 18520072 \t"
      ]
    },
    {
      "cell_type": "markdown",
      "metadata": {
        "id": "yziGicSpIqv6"
      },
      "source": [
        "# **Bài 1. H_index**\n",
        "-----"
      ]
    },
    {
      "cell_type": "markdown",
      "metadata": {
        "id": "nJauooD1I9ww"
      },
      "source": [
        "## **Đề bài**\n",
        "----"
      ]
    },
    {
      "cell_type": "markdown",
      "metadata": {
        "id": "Etrb_xXYn8Mc"
      },
      "source": [
        "Làm thế nào để đánh giá sự thành công của một nhà khoa học?  Dựa vào số bài báo được công bố hay dựa vào số lần một bài báo được trích dẫn tới ở công trình của những người khác? Cả hai tham số đó đều quan trọng.\n",
        "\n",
        "Một bài báo có điểm số trích dẫn là **c** nếu nó được trích dẫn tới **c** lần trong các công trình của những nhà khoa học khác. Một trong số các cách đánh giá sự thành công của một nhà khoa học là tính chỉ số ảnh hưởng **H_Index** dựa trên sự kết hợp giữa số lượng bài báo và chỉ số trích dẫn của các bài báo đó.\n",
        "\n",
        "Chỉ số **H_Index** của một nhà khoa học bằng **k** lớn nhất nếu người đó có **k** bài báo, mỗi bài có điểm số trích dẫn không nhỏ hơn **k**. Ví dụ, một người có 10 bài báo, mỗi bài báo được trích dẫn không dưới 10 lần thì **H_Index** của người đó ít nhất là bằng 10.\n",
        "\n",
        "Một người có **n** bài báo, bài báo thứ **$i$** có điểm trích dẫn là $ci, i = 1 ÷ n$. Hãy xác định **H_Index** của người đó.\n",
        "\n",
        "***Dữ liệu:*** Vào từ thiết bị nhập chuẩn:\n",
        "\n",
        "- Dòng đầu tiên chứa một số nguyên **n**, $(1 ≤ n ≤ 5×105)$\n",
        "- Dòng thứ hai chứa **n** số nguyên $c1, c2, . . ., cn (0 ≤ ci ≤ 106, i = 1 ÷ n)$\n",
        "\n",
        "***Kết quả:*** Đưa ra thiết bị xuất chuẩn một số nguyên – **H_Index** tìm được."
      ]
    },
    {
      "cell_type": "markdown",
      "metadata": {
        "id": "tEl1ZsIdoAd-"
      },
      "source": [
        "## Ví dụ\n",
        "| INPUT | OUTPUT |\n",
        "| - | - |\n",
        "| 5 | 4 |\n",
        "| 8 5 3 4 10 | |"
      ]
    },
    {
      "cell_type": "markdown",
      "metadata": {
        "id": "oBSJD1OYAoL-"
      },
      "source": [
        "## **1. Tóm tắt bài toán**\n",
        "-----"
      ]
    },
    {
      "cell_type": "markdown",
      "metadata": {
        "id": "0C321liNoIm0"
      },
      "source": [
        "Tìm số $k$ lớn nhất sao cho $k$ nhỏ hơn hoặc bằng đúng $k$ con số trong $n$ số nguyên.\n",
        "\n",
        "*Ví dụ* \\\n",
        "Cho 5 số nguyên $[8, 5, 3, 4, 10]$, ta có:\n",
        "\n",
        "    - Nếu k = 1 có 5 con số lớn hơn hoặc bằng 1 (Không thỏa)\n",
        "    - Nếu k = 2 có 5 con số lớn hơn hoặc bằng 2 (Không thỏa)\n",
        "    - Nếu k = 3 có 5 con số lớn hơn hoặc bằng 3 (Không thỏa)\n",
        "    - Nếu k = 4 có 4 con số lớn hơn hoặc bằng 4 (Thỏa)\n",
        "    - Nếu k = 5 có 3 con số lớn hơn hoặc bằng 5 (Không thỏa)\n",
        "=> k = 4"
      ]
    },
    {
      "cell_type": "markdown",
      "metadata": {
        "id": "shIl-5oqopmL"
      },
      "source": [
        "##**2. Nhận diện mẫu**\n",
        "---"
      ]
    },
    {
      "cell_type": "markdown",
      "metadata": {
        "id": "AzZF6xnTsGzs"
      },
      "source": [
        "Gọi dãy $A$ là dãy gồm các phần tử chỉ số lượng trích dẫn của bài báo. Sắp xếp dãy A có giá trị giảm dần. Thực hiện bắt đầu duyệt từ phần tử $A_0$.\n",
        "Tại mỗi vị trí thứ $i$ ta so sánh xem giá trị $A_i$ lớn hơn hoặc bằng giá trị (i+1) hay không.\n",
        "Nếu có thì $k = i + 1$."
      ]
    },
    {
      "cell_type": "markdown",
      "metadata": {
        "id": "dXA60w9gsyb8"
      },
      "source": [
        "##**3. Thiết kế thuật toán**\n",
        "---"
      ]
    },
    {
      "cell_type": "markdown",
      "metadata": {
        "id": "pwgEExgJs5gb"
      },
      "source": [
        "Vì bài này đơn giản nên ta có thể cài đặt ngay"
      ]
    },
    {
      "cell_type": "markdown",
      "metadata": {
        "id": "MwwGcD44s-9m"
      },
      "source": [
        "##**4. Thực thi**\n",
        "--- "
      ]
    },
    {
      "cell_type": "code",
      "metadata": {
        "id": "xY321VX0IOze",
        "colab": {
          "base_uri": "https://localhost:8080/",
          "height": 69
        },
        "outputId": "e623773e-f2e3-4018-b175-b57929690545"
      },
      "source": [
        "n  = int(input())\n",
        "a = list(map(int, input().split()))\n",
        "a.sort(reverse=True)\n",
        "ans  = 0\n",
        "\n",
        "for i in range(n):\n",
        "\tif i + 1 <= a[i]:\n",
        "\t\tans = i + 1\n",
        " \n",
        "print(ans)"
      ],
      "execution_count": null,
      "outputs": [
        {
          "output_type": "stream",
          "text": [
            "5\n",
            "8 5 3 4 10\n",
            "4\n"
          ],
          "name": "stdout"
        }
      ]
    },
    {
      "cell_type": "markdown",
      "metadata": {
        "id": "aiYzHBxftEsB"
      },
      "source": [
        "##**5. Kết quả trên wecode**\n",
        "--- "
      ]
    },
    {
      "cell_type": "markdown",
      "metadata": {
        "id": "2GDXlnIQuDtd"
      },
      "source": [
        "![picture](https://drive.google.com/uc?export=view&id=1bX5RCgoIeCOvCqmNnld2f0zDHXpvaDjC)"
      ]
    },
    {
      "cell_type": "markdown",
      "metadata": {
        "id": "69CZP_Mdwhge"
      },
      "source": [
        "# **Bài 2. WaterSupply**\n",
        "-----"
      ]
    },
    {
      "cell_type": "markdown",
      "metadata": {
        "id": "1nuPfzxewvPD"
      },
      "source": [
        "## **Đề bài**\n",
        "----"
      ]
    },
    {
      "cell_type": "markdown",
      "metadata": {
        "id": "ZSB_TlotwpG6"
      },
      "source": [
        "Vùng đất diệu kỳ Wonderland có N hộ gia đình đã được trang bị một hệ thống cung cấp nước sạch đến từng ngôi nhà. Mỗi đường ống nối trực tiếp 2 nhà, nước chảy trong đường ống theo 2 chiều, có thể truyền qua nhiều trung gian trước khi đến một nhà nào đó. Trong hồ sơ lưu trữ, các ngôi nhà được ghi số từ $1$ đến $N$.\n",
        "\n",
        "Một trận động đất đã gây nên sự cố nghiêm trọng làm cho cả vùng bị chia cắt thành nhiều khu vực rời nhau, không còn tiếp cận được với nguồn nước. Để khắc phục, những người có trách nhiệm đã khảo sát hiện trạng và ghi nhận được toàn vùng đất đang thảm họa vẫn còn $M$ đường ống đang hoạt động tốt.\n",
        "\n",
        "Nhiệm vụ đặt ra là phải khôi phục hệ thống cấp nước bằng cách lắp thêm một số đường ống. Tuy nhiên, do hạn chế về thời gian và kinh phí nên đòi hỏi phương án khôi phục phải được thực hiện với ít đường ống được lắp thêm nhất. Câu hỏi đặt ra: cần lắp thêm ít nhất bao nhiêu đường ống để hệ thống cấp nước có thể đưa nước đến từng ngôi nhà. Câu hỏi phụ: có bao nhiêu phương án khác nhau đáp ứng yêu cầu; số phương án có thể khá lớn nên chỉ cần đưa ra số dư khi chia cho $10^9+7$.\n",
        "\n",
        "Dữ liệu: Vào từ thiết bị nhập chuẩn:\n",
        "\n",
        "- Dòng đầu tiên chứa 2 số nguyên $N, M (1 \\le N, M  \\le 10^5)$\n",
        "\n",
        "- Mỗi dòng trong M dòng tiếp theo chứa 2 số nguyên $a, b (1 \\le a,  b \\le N)$. cho biết vẫn còn đường ống nối nhà $a$ với nhà $b$\n",
        "\n",
        "Kết quả: \n",
        "\n",
        "- Đưa ra thiết bị xuất chuẩn số đường ống cần được lắp thêm và số phương án đáp ứng yêu cầu (theo mô đun $10^9+7$) mỗi số trên một dòng.\n",
        "\n",
        "Dữ liệu mẫu:\n",
        "\n",
        "|INPUT     | OUTPUT |\n",
        "|----------|--------|\n",
        "|3 1       |       1|\n",
        "|1 2       |       2|\n",
        "\n",
        " \n",
        "\n",
        "\n",
        "\n"
      ]
    },
    {
      "cell_type": "markdown",
      "metadata": {
        "id": "z27D0E1rw6it"
      },
      "source": [
        "## **1. Tóm tắt bài toán**\n",
        "-----"
      ]
    },
    {
      "cell_type": "markdown",
      "metadata": {
        "id": "5Scrf7khw3mj"
      },
      "source": [
        "Từ một đồ thị vô hướng có thể không liên thông, tìm số cạnh ít nhất sao cho khi thêm vào đồ thị thì đồ thị đó trở thành đồ thị liên thông, ngoài ra in ra số cách thêm số cạnh đó vào đồ thị."
      ]
    },
    {
      "cell_type": "markdown",
      "metadata": {
        "id": "M_Wize1Ew_rt"
      },
      "source": [
        "##**2. Nhận diện mẫu**\n",
        "---"
      ]
    },
    {
      "cell_type": "markdown",
      "metadata": {
        "id": "AvtxjmoL5WmG"
      },
      "source": [
        "- Bài toán khỏa sát tính liên thông của đồ thị.\n",
        "- Đếm số cách thêm cạnh vào đồ thị để đồ thị trở thành cây."
      ]
    },
    {
      "cell_type": "markdown",
      "metadata": {
        "id": "9GjyHqmixD0B"
      },
      "source": [
        "##**3. Thiết kế thuật toán**\n",
        "---"
      ]
    },
    {
      "cell_type": "markdown",
      "metadata": {
        "id": "3iNBKjdO5Z5q"
      },
      "source": [
        "Ở bài toán này, chúng ta cần trả lời 2 câu hỏi:\n",
        "1. Cần thêm ít nhất bao nhiêu cạnh?\n",
        "2. Có bao nhiêu cách để thêm số cạnh đó vào đồ thị?"
      ]
    },
    {
      "cell_type": "markdown",
      "metadata": {
        "id": "buqHav4M5an0"
      },
      "source": [
        "![](data:image/jpeg;base64,/9j/4AAQSkZJRgABAQEAeAB4AAD/4REGRXhpZgAATU0AKgAAAAgABAE7AAIAAAAXAAAISodpAAQAAAABAAAIYpydAAEAAAAkAAAQ2uocAAcAAAgMAAAAPgAAAAAc6gAAAAgAAAAAAAAAAAAAAAAAAAAAAAAAAAAAAAAAAAAAAAAAAAAAAAAAAAAAAAAAAAAAAAAAAAAAAAAAAAAAAAAAAAAAAAAAAAAAAAAAAAAAAAAAAAAAAAAAAAAAAAAAAAAAAAAAAAAAAAAAAAAAAAAAAAAAAAAAAAAAAAAAAAAAAAAAAAAAAAAAAAAAAAAAAAAAAAAAAAAAAAAAAAAAAAAAAAAAAAAAAAAAAAAAAAAAAAAAAAAAAAAAAAAAAAAAAAAAAAAAAAAAAAAAAAAAAAAAAAAAAAAAAAAAAAAAAAAAAAAAAAAAAAAAAAAAAAAAAAAAAAAAAAAAAAAAAAAAAAAAAAAAAAAAAAAAAAAAAAAAAAAAAAAAAAAAAAAAAAAAAAAAAAAAAAAAAAAAAAAAAAAAAAAAAAAAAAAAAAAAAAAAAAAAAAAAAAAAAAAAAAAAAAAAAAAAAAAAAAAAAAAAAAAAAAAAAAAAAAAAAAAAAAAAAAAAAAAAAAAAAAAAAAAAAAAAAAAAAAAAAAAAAAAAAAAAAAAAAAAAAAAAAAAAAAAAAAAAAAAAAAAAAAAAAAAAAAAAAAAAAAAAAAAAAAAAAAAAAAAAAAAAAAAAAAAAAAAAAAAAAAAAAAAAAAAAAAAAAAAAAAAAAAAAAAAAAAAAAAAAAAAAAAAAAAAAAAAAAAAAAAAAAAAAAAAAAAAAAAAAAAAAAAAAAAAAAAAAAAAAAAAAAAAAAAAAAAAAAAAAAAAAAAAAAAAAAAAAAAAAAAAAAAAAAAAAAAAAAAAAAAAAAAAAAAAAAAAAAAAAAAAAAAAAAAAAAAAAAAAAAAAAAAAAAAAAAAAAAAAAAAAAAAAAAAAAAAAAAAAAAAAAAAAAAAAAAAAAAAAAAAAAAAAAAAAAAAAAAAAAAAAAAAAAAAAAAAAAAAAAAAAAAAAAAAAAAAAAAAAAAAAAAAAAAAAAAAAAAAAAAAAAAAAAAAAAAAAAAAAAAAAAAAAAAAAAAAAAAAAAAAAAAAAAAAAAAAAAAAAAAAAAAAAAAAAAAAAAAAAAAAAAAAAAAAAAAAAAAAAAAAAAAAAAAAAAAAAAAAAAAAAAAAAAAAAAAAAAAAAAAAAAAAAAAAAAAAAAAAAAAAAAAAAAAAAAAAAAAAAAAAAAAAAAAAAAAAAAAAAAAAAAAAAAAAAAAAAAAAAAAAAAAAAAAAAAAAAAAAAAAAAAAAAAAAAAAAAAAAAAAAAAAAAAAAAAAAAAAAAAAAAAAAAAAAAAAAAAAAAAAAAAAAAAAAAAAAAAAAAAAAAAAAAAAAAAAAAAAAAAAAAAAAAAAAAAAAAAAAAAAAAAAAAAAAAAAAAAAAAAAAAAAAAAAAAAAAAAAAAAAAAAAAAAAAAAAAAAAAAAAAAAAAAAAAAAAAAAAAAAAAAAAAAAAAAAAAAAAAAAAAAAAAAAAAAAAAAAAAAAAAAAAAAAAAAAAAAAAAAAAAAAAAAAAAAAAAAAAAAAAAAAAAAAAAAAAAAAAAAAAAAAAAAAAAAAAAAAAAAAAAAAAAAAAAAAAAAAAAAAAAAAAAAAAAAAAAAAAAAAAAAAAAAAAAAAAAAAAAAAAAAAAAAAAAAAAAAAAAAAAAAAAAAAAAAAAAAAAAAAAAAAAAAAAAAAAAAAAAAAAAAAAAAAAAAAAAAAAAAAAAAAAAAAAAAAAAAAAAAAAAAAAAAAAAAAAAAAAAAAAAAAAAAAAAAAAAAAAAAAAAAAAAAAAAAAAAAAAAAAAAAAAAAAAAAAAAAAAAAAAAAAAAAAAAAAAAAAAAAAAAAAAAAAAAAAAAAAAAAAAAAAAAAAAAAAAAAAAAAAAAAAAAAAAAAAAAAAAAAAAAAAAAAAAAAAAAAAAAAAAAAAAAAAAAAAAAAAAAAAAAAAAAAAAAAAAAAAAAAAAAAAAAAAAAAAAAAAAAAAAAAAAAAAAAAAAAAAAAAAAAAAAAAAAAAAAAAAAAAAAAAAAAAAAAAAAAAAAAAAAAAAAAAAAAAAAAAAAAAAAAAAAAAAAAAAAAAAAAAAAAAAAAAAAAAAAAAAAAAAAAAAAAAAAAAAAAAAAAAAAAAAAAAAAAAAAAAAAAAAAAAAAAAAAAAAAAAAAAAAAAAAAAAAAAAAAAAAAAAAAAAAAAAAAAAAAAAAAAAAAAAAAAAAAAAAAAAAAAAAAAAAAAAAAAAAAAAAAAAAAAAAAAAAAAAAAAAAAAAAAAAAAAAAAAAAAAAAAAAAAAAAAAAAAAAAAAAAAAAAAAAAAAAAAAAAAAAAAAAAAAAAAAAAAAAAAAAAAAAAAAAAAAAAAAAAAAAAAAAAAAAAAAAAAAAAAAAAAAAAAAAAAAAAAAAAAAAAAAAAAAAAAAAAAAAAAAAAAAAAAAAAAAAAAAAAAAAAAAAAAAAAAAAAAAAAAAAAAAAAAAAAAAAAAAAAAAAAAAAAAAAAAAAAAAAAAAAAAAAAAAAAAAAAAAAAAAAAAAAAAAAAAAAAAAAAAAAAAAAAAAAAAAAAAAAAAAAAAAAAAAAAAAAAAAAAAAAAAAAAAAAAAAAAAAAAAAAAAAAAAAAAAAAAAAAAAAAAAAAAAAAAAAAAAAAAAAAAAAAAAAAAAAAAAAAAAAAAAAAAAAAAAAAAAAAAAAAAAAAAAAAAAAAAAAAAAAAAAAAAAAAAAAAAAAAAAAAAAAAAAAAAAAAAAAAAAAAAAAAAAAAAAAAAAAAAAAAAAAAAAAAAAAAAAAAAAAAAAAAAAAAAAAAAAAAAAAAAAAAAAETGsMahbmcgTmd1eeG7hW4gWHXDom4AAAAFkAMAAgAAABQAABCwkAQAAgAAABQAABDEkpEAAgAAAAMxMwAAkpIAAgAAAAMxMwAA6hwABwAACAwAAAikAAAAABzqAAAACAAAAAAAAAAAAAAAAAAAAAAAAAAAAAAAAAAAAAAAAAAAAAAAAAAAAAAAAAAAAAAAAAAAAAAAAAAAAAAAAAAAAAAAAAAAAAAAAAAAAAAAAAAAAAAAAAAAAAAAAAAAAAAAAAAAAAAAAAAAAAAAAAAAAAAAAAAAAAAAAAAAAAAAAAAAAAAAAAAAAAAAAAAAAAAAAAAAAAAAAAAAAAAAAAAAAAAAAAAAAAAAAAAAAAAAAAAAAAAAAAAAAAAAAAAAAAAAAAAAAAAAAAAAAAAAAAAAAAAAAAAAAAAAAAAAAAAAAAAAAAAAAAAAAAAAAAAAAAAAAAAAAAAAAAAAAAAAAAAAAAAAAAAAAAAAAAAAAAAAAAAAAAAAAAAAAAAAAAAAAAAAAAAAAAAAAAAAAAAAAAAAAAAAAAAAAAAAAAAAAAAAAAAAAAAAAAAAAAAAAAAAAAAAAAAAAAAAAAAAAAAAAAAAAAAAAAAAAAAAAAAAAAAAAAAAAAAAAAAAAAAAAAAAAAAAAAAAAAAAAAAAAAAAAAAAAAAAAAAAAAAAAAAAAAAAAAAAAAAAAAAAAAAAAAAAAAAAAAAAAAAAAAAAAAAAAAAAAAAAAAAAAAAAAAAAAAAAAAAAAAAAAAAAAAAAAAAAAAAAAAAAAAAAAAAAAAAAAAAAAAAAAAAAAAAAAAAAAAAAAAAAAAAAAAAAAAAAAAAAAAAAAAAAAAAAAAAAAAAAAAAAAAAAAAAAAAAAAAAAAAAAAAAAAAAAAAAAAAAAAAAAAAAAAAAAAAAAAAAAAAAAAAAAAAAAAAAAAAAAAAAAAAAAAAAAAAAAAAAAAAAAAAAAAAAAAAAAAAAAAAAAAAAAAAAAAAAAAAAAAAAAAAAAAAAAAAAAAAAAAAAAAAAAAAAAAAAAAAAAAAAAAAAAAAAAAAAAAAAAAAAAAAAAAAAAAAAAAAAAAAAAAAAAAAAAAAAAAAAAAAAAAAAAAAAAAAAAAAAAAAAAAAAAAAAAAAAAAAAAAAAAAAAAAAAAAAAAAAAAAAAAAAAAAAAAAAAAAAAAAAAAAAAAAAAAAAAAAAAAAAAAAAAAAAAAAAAAAAAAAAAAAAAAAAAAAAAAAAAAAAAAAAAAAAAAAAAAAAAAAAAAAAAAAAAAAAAAAAAAAAAAAAAAAAAAAAAAAAAAAAAAAAAAAAAAAAAAAAAAAAAAAAAAAAAAAAAAAAAAAAAAAAAAAAAAAAAAAAAAAAAAAAAAAAAAAAAAAAAAAAAAAAAAAAAAAAAAAAAAAAAAAAAAAAAAAAAAAAAAAAAAAAAAAAAAAAAAAAAAAAAAAAAAAAAAAAAAAAAAAAAAAAAAAAAAAAAAAAAAAAAAAAAAAAAAAAAAAAAAAAAAAAAAAAAAAAAAAAAAAAAAAAAAAAAAAAAAAAAAAAAAAAAAAAAAAAAAAAAAAAAAAAAAAAAAAAAAAAAAAAAAAAAAAAAAAAAAAAAAAAAAAAAAAAAAAAAAAAAAAAAAAAAAAAAAAAAAAAAAAAAAAAAAAAAAAAAAAAAAAAAAAAAAAAAAAAAAAAAAAAAAAAAAAAAAAAAAAAAAAAAAAAAAAAAAAAAAAAAAAAAAAAAAAAAAAAAAAAAAAAAAAAAAAAAAAAAAAAAAAAAAAAAAAAAAAAAAAAAAAAAAAAAAAAAAAAAAAAAAAAAAAAAAAAAAAAAAAAAAAAAAAAAAAAAAAAAAAAAAAAAAAAAAAAAAAAAAAAAAAAAAAAAAAAAAAAAAAAAAAAAAAAAAAAAAAAAAAAAAAAAAAAAAAAAAAAAAAAAAAAAAAAAAAAAAAAAAAAAAAAAAAAAAAAAAAAAAAAAAAAAAAAAAAAAAAAAAAAAAAAAAAAAAAAAAAAAAAAAAAAAAAAAAAAAAAAAAAAAAAAAAAAAAAAAAAAAAAAAAAAAAAAAAAAAAAAAAAAAAAAAAAAAAAAAAAAAAAAAAAAAAAAAAAAAAAAAAAAAAAAAAAAAAAAAAAAAAAAAAAAAAAAAAAAAAAAAAAAAAAAAAAAAAAAAAAAAAAAAAAAAAAAAAAAAAAAAAAAAAAAAAAAAAAAAAAAAAAAAAAAAAAAAAAAAAAAAAAAAAAAAAAAAAAAAAAAAAAAAAAAAAAAAAAAAAAAAAAAAAAAAAAAAAAAAAAAAAAAAAAAAAAAAAAAAAAAAAAAAAAAAAAAAAAAAAAAAAAAAAAAAAAAAAAAAAAAAAAAAAAAAAAAAAAAAAAAAAAAAAAAAAAAAAAAAAAAAAAAAAAAAAAAAAAAAAAAAAAAAAAAAAAAAAAAAAAAAAAAAAAAAAAAAAAAAAAAAAAAAAAAAAAAAAAAAAAAAAAAAAAAAAAAAAAAAAAAAAAAAAAAAAAAAAAAAAAAAAAAAAAAAAAAAAAAAAAAAAAAAAAAAAAAAAAAAAAAAAAAAAAAAAAAAAAAAAAAAAAAAAAAAAAAAAAAAAAAAAAAAAAAAAAAAAAAAAAAAAAAAAAAAAAAAAAAAAAAAAAAAAAAAAAAAAAAAAAAAAAAAAAAAAAAAAAAAAAAAAAAAAAAAAAAAAAAAAAAAAAAAAAAAAAAAAAAAAAAAAAAAAAAAAAAAAAAAAAAAAAAAAAAAAAAAAAAAAAAAAAAAAAAAAAAAAAAAAAAAAAAAAAAAAAAAAAAAAAAAAAAAAAAAAAAAAAAAAAAAAAAAAAAAAAAAAAAAAAAAAAAAAAAAAAAAAAAAAAAAAAAAAAAAAAAAAAAAAAAAAAAAAAAAAAAAAAAAAAAAAAAAAMjAyMDowOTozMCAyMjozOTozOAAyMDIwOjA5OjMwIDIyOjM5OjM4AAAARACwAaEBbgBnACAATgBnAHUAeQDFHm4AIABYAHUA4gBuAAAA/+ELKWh0dHA6Ly9ucy5hZG9iZS5jb20veGFwLzEuMC8APD94cGFja2V0IGJlZ2luPSfvu78nIGlkPSdXNU0wTXBDZWhpSHpyZVN6TlRjemtjOWQnPz4NCjx4OnhtcG1ldGEgeG1sbnM6eD0iYWRvYmU6bnM6bWV0YS8iPjxyZGY6UkRGIHhtbG5zOnJkZj0iaHR0cDovL3d3dy53My5vcmcvMTk5OS8wMi8yMi1yZGYtc3ludGF4LW5zIyI+PHJkZjpEZXNjcmlwdGlvbiByZGY6YWJvdXQ9InV1aWQ6ZmFmNWJkZDUtYmEzZC0xMWRhLWFkMzEtZDMzZDc1MTgyZjFiIiB4bWxuczpkYz0iaHR0cDovL3B1cmwub3JnL2RjL2VsZW1lbnRzLzEuMS8iLz48cmRmOkRlc2NyaXB0aW9uIHJkZjphYm91dD0idXVpZDpmYWY1YmRkNS1iYTNkLTExZGEtYWQzMS1kMzNkNzUxODJmMWIiIHhtbG5zOnhtcD0iaHR0cDovL25zLmFkb2JlLmNvbS94YXAvMS4wLyI+PHhtcDpDcmVhdGVEYXRlPjIwMjAtMDktMzBUMjI6Mzk6MzguMTI2PC94bXA6Q3JlYXRlRGF0ZT48L3JkZjpEZXNjcmlwdGlvbj48cmRmOkRlc2NyaXB0aW9uIHJkZjphYm91dD0idXVpZDpmYWY1YmRkNS1iYTNkLTExZGEtYWQzMS1kMzNkNzUxODJmMWIiIHhtbG5zOmRjPSJodHRwOi8vcHVybC5vcmcvZGMvZWxlbWVudHMvMS4xLyI+PGRjOmNyZWF0b3I+PHJkZjpTZXEgeG1sbnM6cmRmPSJodHRwOi8vd3d3LnczLm9yZy8xOTk5LzAyLzIyLXJkZi1zeW50YXgtbnMjIj48cmRmOmxpPkTGsMahbmcgTmd1eeG7hW4gWHXDom48L3JkZjpsaT48L3JkZjpTZXE+DQoJCQk8L2RjOmNyZWF0b3I+PC9yZGY6RGVzY3JpcHRpb24+PC9yZGY6UkRGPjwveDp4bXBtZXRhPg0KICAgICAgICAgICAgICAgICAgICAgICAgICAgICAgICAgICAgICAgICAgICAgICAgICAgICAgICAgICAgICAgICAgICAgICAgICAgICAgICAgICAgICAgICAgICAgICAgICAgIAogICAgICAgICAgICAgICAgICAgICAgICAgICAgICAgICAgICAgICAgICAgICAgICAgICAgICAgICAgICAgICAgICAgICAgICAgICAgICAgICAgICAgICAgICAgICAgICAgICAgCiAgICAgICAgICAgICAgICAgICAgICAgICAgICAgICAgICAgICAgICAgICAgICAgICAgICAgICAgICAgICAgICAgICAgICAgICAgICAgICAgICAgICAgICAgICAgICAgICAgICAKICAgICAgICAgICAgICAgICAgICAgICAgICAgICAgICAgICAgICAgICAgICAgICAgICAgICAgICAgICAgICAgICAgICAgICAgICAgICAgICAgICAgICAgICAgICAgICAgICAgIAogICAgICAgICAgICAgICAgICAgICAgICAgICAgICAgICAgICAgICAgICAgICAgICAgICAgICAgICAgICAgICAgICAgICAgICAgICAgICAgICAgICAgICAgICAgICAgICAgICAgCiAgICAgICAgICAgICAgICAgICAgICAgICAgICAgICAgICAgICAgICAgICAgICAgICAgICAgICAgICAgICAgICAgICAgICAgICAgICAgICAgICAgICAgICAgICAgICAgICAgICAKICAgICAgICAgICAgICAgICAgICAgICAgICAgICAgICAgICAgICAgICAgICAgICAgICAgICAgICAgICAgICAgICAgICAgICAgICAgICAgICAgICAgICAgICAgICAgICAgICAgIAogICAgICAgICAgICAgICAgICAgICAgICAgICAgICAgICAgICAgICAgICAgICAgICAgICAgICAgICAgICAgICAgICAgICAgICAgICAgICAgICAgICAgICAgICAgICAgICAgICAgCiAgICAgICAgICAgICAgICAgICAgICAgICAgICAgICAgICAgICAgICAgICAgICAgICAgICAgICAgICAgICAgICAgICAgICAgICAgICAgICAgICAgICAgICAgICAgICAgICAgICAKICAgICAgICAgICAgICAgICAgICAgICAgICAgICAgICAgICAgICAgICAgICAgICAgICAgICAgICAgICAgICAgICAgICAgICAgICAgICAgICAgICAgICAgICAgICAgICAgICAgIAogICAgICAgICAgICAgICAgICAgICAgICAgICAgICAgICAgICAgICAgICAgICAgICAgICAgICAgICAgICAgICAgICAgICAgICAgICAgICAgICAgICAgICAgICAgICAgICAgICAgCiAgICAgICAgICAgICAgICAgICAgICAgICAgICAgICAgICAgICAgICAgICAgICAgICAgICAgICAgICAgICAgICAgICAgICAgICAgICAgICAgICAgICAgICAgICAgICAgICAgICAKICAgICAgICAgICAgICAgICAgICAgICAgICAgICAgICAgICAgICAgICAgICAgICAgICAgICAgICAgICAgICAgICAgICAgICAgICAgICAgICAgICAgICAgICAgICAgICAgICAgIAogICAgICAgICAgICAgICAgICAgICAgICAgICAgICAgICAgICAgICAgICAgICAgICAgICAgICAgICAgICAgICAgICAgICAgICAgICAgICAgICAgICAgICAgICAgICAgICAgICAgCiAgICAgICAgICAgICAgICAgICAgICAgICAgICAgICAgICAgICAgICAgICAgICAgICAgICAgICAgICAgICAgICAgICAgICAgICAgICAgICAgICAgICAgICAgICAgICAgICAgICAKICAgICAgICAgICAgICAgICAgICAgICAgICAgICAgICAgICAgICAgICAgICAgICAgICAgICAgICAgICAgICAgICAgICAgICAgICAgICAgICAgICAgICAgICAgICAgICAgICAgIAogICAgICAgICAgICAgICAgICAgICAgICAgICAgICAgICAgICAgICAgICAgICAgICAgICAgICAgICAgICAgICAgICAgICAgICAgICAgICAgICAgICAgICAgICAgICAgICAgICAgCiAgICAgICAgICAgICAgICAgICAgICAgICAgICAgICAgICAgICAgICAgICAgICAgICAgICAgICAgICAgICAgICAgICAgICAgICAgICAgICAgICAgICAgICAgICAgICAgICAgICAKICAgICAgICAgICAgICAgICAgICAgICAgICAgICAgICAgICAgICAgICAgICAgICAgICAgICAgICAgICAgICAgICAgICAgICAgICAgICAgICAgICAgICAgICAgICAgICAgICAgIAogICAgICAgICAgICAgICAgICAgICAgICAgICAgICAgICAgICAgICAgICAgICAgICAgICAgICAgICAgICAgICAgICAgICAgICAgICAgICAgICAgICAgICAgICAgICAgICAgICAgCiAgICAgICAgICAgICAgICAgICAgICAgICAgICA8P3hwYWNrZXQgZW5kPSd3Jz8+/9sAQwAHBQUGBQQHBgUGCAcHCAoRCwoJCQoVDxAMERgVGhkYFRgXGx4nIRsdJR0XGCIuIiUoKSssKxogLzMvKjInKisq/9sAQwEHCAgKCQoUCwsUKhwYHCoqKioqKioqKioqKioqKioqKioqKioqKioqKioqKioqKioqKioqKioqKioqKioqKioq/8AAEQgAegE6AwEiAAIRAQMRAf/EAB8AAAEFAQEBAQEBAAAAAAAAAAABAgMEBQYHCAkKC//EALUQAAIBAwMCBAMFBQQEAAABfQECAwAEEQUSITFBBhNRYQcicRQygZGhCCNCscEVUtHwJDNicoIJChYXGBkaJSYnKCkqNDU2Nzg5OkNERUZHSElKU1RVVldYWVpjZGVmZ2hpanN0dXZ3eHl6g4SFhoeIiYqSk5SVlpeYmZqio6Slpqeoqaqys7S1tre4ubrCw8TFxsfIycrS09TV1tfY2drh4uPk5ebn6Onq8fLz9PX29/j5+v/EAB8BAAMBAQEBAQEBAQEAAAAAAAABAgMEBQYHCAkKC//EALURAAIBAgQEAwQHBQQEAAECdwABAgMRBAUhMQYSQVEHYXETIjKBCBRCkaGxwQkjM1LwFWJy0QoWJDThJfEXGBkaJicoKSo1Njc4OTpDREVGR0hJSlNUVVZXWFlaY2RlZmdoaWpzdHV2d3h5eoKDhIWGh4iJipKTlJWWl5iZmqKjpKWmp6ipqrKztLW2t7i5usLDxMXGx8jJytLT1NXW19jZ2uLj5OXm5+jp6vLz9PX29/j5+v/aAAwDAQACEQMRAD8A+kaKKKACiiigAoqKe6gtlBuJUjzkKGPLEAtgDucKTgehqL+0Iy21Irh+cZEDY6qOpGMfODn0DehoAtUVUOpRIuZYriMYySYGIHDHkgHHCH81HUgGxHLHMpaJ1cA4JU5wfT60APooooAKKKKACiiigAoopryJGoaRlQEhQWOOScAfiSBQA6iqf9qW7xeZbiW4UruUwxMwcbdww3Q5HQ5xnjrT/tUxfaLGcDdjcWTGNxGfvZ6Dd9CO/FAFmiqYv2SMPdWc8AwCxwHC/KCfuknqcdOo9Oa4bxWsjahq009hdajO8cf9kPDHcSIihMMEeEHypfM3fMccFecKcAHotFU9N1AX6zqYpIpbaQQzK4x8+xXOPUfOBn29OauUAFFFU21S22FoC9zxkC3Qvn5WPUcc7SOvXA6kUAXKKrC/hEojl3wsW2r5qFQxzgYbpknoM5NWaACiiigAooooAKKQkKpLEAAZJPaq51G0EmwTq7btpEeWwcqMHHTl1/PPSgCzRVZNQs5GVFuY9742qWwxyCRweeisfoD6VZoAKKKKACiiigAooooAKKKKACqk8sk9w1pay+WyqTLKu1mjBB24BJw2cEZUjANW6rWe4tcs2/5pjgNv6AAcBug47cHr3NAEVzLpuh2dzqN9NDaQIpae6nfGF3FsFm7Au2B0GcCuPk+L+imT/QtK1y9t+1zDY7UI9QHZWI+i1i+Np28SfEUaPMd2n6LFFKYT92S5kBIZh32Jtx7uT2FdBb+Hoja5K9q8LHZo6FT2dNXa3udNOinHmkzf8O+LNG8VW8kmi3fmvCQs8EiNHLCT2eNgGX8Rg9s1fuLQsxmtHENwFIDFcq/BwGHcZOeMHjrXjniZW8I6nB4osSY59NIafbx51tkebG3qNuSM9GANe2134LFrFU+a1mtzOpT5GQ29yLgONjRvG2143xlT1HQkcgg9e9TVWurd2kS4twPtEQIAJCh1PVSdpIGcHjnKjtmpbedLm3SWPcFcA4ZSrD2IPIPqD0ruMiSiiigAooooAgupJVEaQD55HC7scKOrHpwcA4zxnFMSzt4B50/72RFJaeY5I6E8nhRlQcDAyM4pt+AklrcED91MASQOjAr1IJ6kdMHjrjIPBfFe+lvLnSfC8Tlba/Etzf7TjzIYygER9mZxn1CEdDWVarGjTdSWyKjFykki/d/Fzw/HO0elW2pa0qnDT6fbbos+zuVVvqpIrW8OePNC8TXLWllPLb36rvaxvIWhm2/3gG+8PdSQKwdG8PQm1UBFVQMAAYAFY3i7w3m3WaykNtfWzedZ3KfeglHRh7diOhBIPWvnqedSdT34rl/E6nQjsnqet1VazaOTzLKUwkn5oyN0bdO3Y4z0I5OTmsLw3460fWvC+m6ldanYWtxdW0cs0DXKAxOVG5cE54ORWp/wk2g/9BvTv/AuP/GvpjjJVmlgEj/2ZJ5sh3yeQ6EO2z1JGeFVckDkjtkiUveSPhIY4kDctI24kBuyj1XODng9qq/8JNoP/Qb07/wLj/xo/wCEm0H/AKDenf8AgXH/AI0ALcQ2llZvea3dq8UCb5ZblwkSABcsV+6OUDZOcEnBFcnL8X9C8w/2dputalB/z821ltjPuPMZSw9wDntWD471aDxZ4ytdCtbqK60nT4EvLhYZA6TTuzCNWxwQgQtj1ZT2FdDp/h+N7YEjtXh47NHh6nsqau1vc6adFOPNJm7oHizQvF8E0emXJeWIYntZkaGeHP8AeRgGA9GHB7GtS2MkMzW0pZxy8UhBOVz90kKFGMgAZJIGfWvIvGFlL4dkTxFpXyahpIM6EcebGOXib1VlBGOxweoFer3UsNxYWt/EUwrxyxO+0YDYB5IOMqxHHPOMjNd2BxixVPmtZrczqU+R6bGhRRRXcZBRRTZM+W23g4OP880AU4ov7Q/f3OTCTmKE4xjGNx9ScnvjGOM1Q8ReMND8JpCmqXJWeYfuLS3jaWaUD+7GoJwPXgDuavQ3UVj4dS6m+WGC1EjbR0VUyey9h6D6DpXk/g+wm18t4g1b95qOq4uJmPPlqeUiX0VFIAH1PUmuDHYxYWnzWu3sa06fO9djp/8AhbXh6cNFrGlatYWjgq017Yh4sEYO7YXIGDzuAHrXY20Vrd28d5pN3+5mAlSW3kDxygndnHKkH1HOOhFcnf8Ah+JLYkL2rG+G9zJofjS88NRkjTry2e/tov4YJUdVlC+gbzEbHTIY964sDmjxFT2VRWb2saVKKUeaLPS7eeYSfZ7xV80KCJIwQknAyefunOflycDHNWaqXA36lZqMZXfITgZwBtxyp7sOhU8dxkVbr3DmCiiigAooooAKKKKACqlh5YkvI49uUuDuC7OCVVuQvf5s/NzznuKt1Wg3LfXSneQdjgneRyMYGeP4ei+uT1oA8x8aQN4b+I41eYbbDW4oovOP3Y7mMFdjHtvTbt9SjD0robfxBELUAsOldbqGnWerafNY6naxXdrOu2WGZAyuPcGvMNZ+HFhYeKdB07TNX1q0stRlmSWBLsOEVImcBWdWYcjHU8dMV4WOyuVer7Sm7X3udMK0VHlkjK8UyjxVqdt4WszvudWbZIAf9Vb5/eyH0AXIHqxAr22uOPwy0K10doNGjew1FZRcQ6qWMtyk6ghXLsSWGCQUJ2lWYYANafhnxBLqqXFhq0K2mt6eQl7bKcqc/dljJ6xvgkHtyp5U134LCLC0+W929zOpU52b1Uyv2O+RkGILhirqBwr9Q3oAeQepJK+9XKqamP8AiXu4HMRWUf8AASG/ut6dgT6YPNdxkW6KKKACiiigBksSzwvFJkpIpVsEg4PHUcivMPiVBPbzaT4kcb10rzbLUyoH7uOQoVmIBOFDIp65CyZPQ16lVS8gJZZkUSYGyWNuQ8Z6jHTjOemTjHesq1KNam6ctmVGTjJNHFaNr8K2q/OCCMgg8Gsbxf4k22wjs4zc3tw3k2lsnLTyn7qj+p7DJPStuX4T+H7hhPo17quiwyfN9nsZwsYzzxHIrBP90BcelaWieDdA8J3wuLSKe+1aRNoubuUzT7MgHBPCLkjO0AetfPU8lkqnvyXL+J1OvHdLUf4b8BaLo3hfTdOvNK066ubW2jjmne1RjLIFG5skZ5OTWn/winh7/oA6Z/4Bx/4VZe3vbmIh7xrQsOBbqpZeVPVgQTww6dG7EZqQwXSybo7wkbslZYlYY3LkDbtPQMB15bJzjFfTHGUv+EU8Pf8AQB0z/wAA4/8ACj/hFPD3/QB0z/wDj/wq19ruIEzd2rEBcs9v+8AwuT8v3jzwMAmp4bqC4ZlhlR2TO5QeR8xXkfVWH4GgDyfxxo9v4R8Z2utWdpDaaTqMCWk5giCJDOjMYy2OBvDlc+qqO4rpNP1+JLYAsOldneWdtqFnLaX9vHc20yFJYZUDK6nqCDwRXA3vws8PWbf6Nrms6XC2dlpb3iuDgFtqCRHforHap6A4HFeHjsreIqe1puze9zpp1ko8skc94yvZfEDJ4e0r59Q1YG3iAGfLQ8PK3oqKSc+uB1Ir1URor22m2hIitlVpSG5VVxsU4YMCSAehUhGB6isfw94R0/w+JxodrJbSz/LPqF05muZcZH3mJwBwQD8o/u10sMKQR7IxgbmY+5JJJ/Ekmu3A4NYWny3u3uZ1KnO9Nh9FFFd5kFFFFAGfBape+HRZXWSktuYJPUjbtPVm/VifevKfBt9LoW7QdWxHqOlYt51PG9Rwkq/7LqAwPuR1Br1vTOLED0kkH5O3+yv8vxPU5viTwZoviryn1S3YXUAIhvLeRopogeoDrzj/AGTke1cGOwaxdPlvZrY1p1OR67GHf6/E9sQGHSsT4c2z6542vPEcYJ0+xtnsLeX+GeV3VpSvqF8tFz0yWHY1F4Y+HOnavqGvQ63qerajbadqZtIreW6CI6CGJ/n8tVLcyHvgjHHXPqdpaW9hZxWtlBHb28KhI4okCqijoABwBXFgcreHqe1qO7W1jSpWTjyxRFEfM1W4YcrEiR8Hoxyxzhj2K8FQfcg8W6q6eWe3aZwwM0jOAwIIXOFyGVSDtA4I4PGT1q1XuHMFFFFABRRRQAUUUUAFU08tdclxsEr2yZ+5uIDP/wACI+Y9eOTjkmrlVhn+1G+/tEI/v7fvH/gOf1/CgCzXLeIv+R78H/8AXxdf+kz11Nct4i/5Hvwf/wBfF1/6TPQB1Nc/4n0C4v3t9X0KRLbXdPB+zSvwk6H70EuOqNj6qQGHI56CigDK8O6/b+ItL+0wxvbzxOYbq0m4ktpl+9G49R69CCCOCK05Y1mheKQZR1KsASOD7iuX8RaVeabqn/CU+G4TNeogTULFOP7QgHYdvNTkoe/Knggje0nVbPXNJt9S0yYT2twm6NwMfUEdQQcgg8ggg0APsJzLblJWUzwHypgMDDAA5wGbbkEMATnDDNWarXEMvnJcWpBkGFdGchXXnjvgjOcgZOMdKkt7mO6hWWEnBAyrAhlOM4YHkHnoeRQBLRRRQAUUUUAVjp8Hms8fmRFjlhFIyqxyTnAOMkscnqeMngVJb2sNqhWCMLuILN1ZyABlieWOABk5PFS0UAFFFFABUU1rBcY8+GOQqcqWUEqcEZB7cMR+JqWigCr/AGba5+42OymRsD7vbOP4F/X1OZYbW3tyTbwRxFuCUQDPJP8ANifxNS0UAFFFFABRRRQAUUUUAVdPyIJA3UTy/q5I/ib19R9F6C1VSx+/djI4uD0xxwD/AHR6+/19LdAHKeCv+Qp4w/7Dzf8ApNb10Woy+TYSEOEZ8RoSVHzMQq/e4JyRx36Vzvgr/kKeMP8AsPN/6TW9dFcBnu7VF3ABmkYjcAQFxgkEDqw4OQceuKAJkSO3t1RAscUagADgKoH6CiGaK4iEkEiSxt0dGBB/EVi+LtPn1HRY44Lb7akd1DNPZ5UfaYlcFk+YgH1wSAcYPBrI0G7utIvLx7rRVsrO/vY1g8uBYGJbam50EjjqUG75c4PGdoIB2lFFFABRRRQAUUUUAYsPii0uNQ+zwW15JB9oa1F6sBMPmqSGXPXhgV3Y25GM5q8hQ65OBs8wW8ecbd2Cz4z/ABY4PXjrjnNc1P4NvI5ofI1VUsLO8e9gjS2czqWk81o94kCspbjBQnbxnPNa/h2e8uIzJqHn+a0SnE0TxkDzJMAqVC7gu0Hb/LaSAbVct4i/5Hvwf/18XX/pM9dTXLeIv+R78H/9fF1/6TPQB1NFFFABXGarDL4I1afxDp8bPol2/maxaRrnyG73aKP/ACIo6gbuoO7s6CMjB5FADIZormCOe3kWWKRQ6SI2VZSMggjqCKgnt5Fk+0WZxL/FGzkJJwcA9QpyQdwGeAOlcnCf+FeaqlrJx4Vv5ttu56aXOx/1Z9IXJ+U9EY7ehGO2oAht7qK6VjE3zRttkQ/ejbAOGHY4IOD2IPepqr3Vu8hE1u224jUhMthWzg7W4PBIHIGR2p0Fyk5kUfLJGxV4yw3LzwSAeARyPY0ATUUUUAFFFFABRRRQAUUUUAFFHSqwv4GkKQlpiG2kxKWAO7aQSOMgg5GcigCzRVMXV5JHujsCh25CzzKvO0EA7d3ckH3XuCDTvtpifbeQtAuTiXO5CPmPJH3flXJJAA3AZJoAtUUUUAFBOBk0VTndruRrWAuqKcTSjjbwDtByCGIYHIBHBHWgBdOJe1MpOfOkeRTnIKljtx8zDGMdDg9cDoLdIqhFCoAqqMAAYAFLQByngr/kKeMP+w83/pNb1v4V9cySpaK34Hy7gGbntuA+Qd8HHTisDwV/yFPGH/Yeb/0mt66CY+VqcEhYhJEaM5JxuyCv8WB/EOhJ45GOQC3UU1rb3EkbzwRyvE26NnQEofUZ6GpaKACiiigAooooAKKKKACqcZj/ALbuQNvmfZ4i33M43SY6fNjr146453VcqsSy6og+fa8LZ+8VBVh/wEH5u/JxxwDgAy/Ffi2x8JafHPeJLcXNw/l2tnAAZbh8ZwM8AAcljgAfhnza/wDEPjXV9Y03V0tdGsf7OeSSG1dZZyd6FCGkDL2PZevrVvXWOqfF/UhdcrpttBbW6nooceY7D3YlQT/sD0rs7bTIPsg4HSvm8wzKtTrOnS0sddOnDlUpa3KPhT4hjV9UXRdfsRpWrOpaALL5kN2By3luQDuA5KEA45GQCR21eJ/EWP8AsvSZtTtPludNYXtuw6rJGdw/PGD6gkV6H/wm8v8A0KXiT/wDT/45XpZdi5Yqk3PdGVamoPTZnU0Vy3/Cby/9Cl4k/wDANP8A45R/wm8v/QpeJP8AwDT/AOOV6RidHeWdtqNjNZ30CXFtcIY5YpFyrqRggj0xXnVx4tvfh3cnwxc2txr0rR+bo7rKA5hBwUuGPK7DgCTB3DHBYGui/wCE3l/6FLxJ/wCAaf8AxyvP9GuD4i8Z67q15BNBNJem2WG4XDwxRKFVCMnHO5sZ6ua4sdiXhqLmlrsjWlBTlZmkfG3j8t5wtdAWLr9n8qcn6ebv/XZ+FdH4a8ap4ome2e1bTNfsoy72Mku5JoyRlkfGGQkKC20Mp6gZ5u/2ZB9k6DpXAa0P7J8X+H9QtPlni1a3gBH8Uc8ghdfptfOPVQe1eHg80ryrKFV3TdjeVKDi3HSx7HDKs8KSpuCyKGG9SpwRnkHkH2PNPqnCotb94UUCOcGVQq4AbPz9F7kg5JJJJ9KuV9ScYUUUUAFFFFABRRRQBQ8oalJN9pG+1RmjWIk7ZOCrbxgZHLDacqcA/TJ8X+NLPwnDBELeS/1K6z9lsISAzgdWZjwiDIyx9cAE8Vt6bn7Cpb7xZyfqWJ/vN/P8uleSvnVfid4iu7o7nhuksogf+WcUcakKPqzu3/Aq4sdiXhqLqJa9DWlDnlZl0+N/H0jeclroEUXX7OYp3b6ebvH57PwrqPCfjq38UTTaRqtj/Z2rJGXks5HEkc8fQvG+BvXkAggEZ5HIJni0yD7H0HSvO/Fz/wBh6rpmsWaO9xYajAyLEMvIryLG8Y/3kdhj1IrwsJmld1lGo7pu33m8qUHF8ulj2B7a5h3NYzg53N5Vxl1yd54bO5csy9dwCrgAU8y3gfH2WMruxlZug3AZ5XrtJOPbHfNc/wD8JvL/ANCl4k/8A0/+OUf8JvL/ANCl4k/8A0/+OV9UcZuiC6uVU3kghXAJit3PXAP3+CcEHpjI6irMUMdvCsUEaRRoMKiKAFHoAK5n/hN5f+hS8Sf+Aaf/AByj/hN5f+hS8Sf+Aaf/ABygDqa4TxN8RXstWl0bwvYJqeoQELczTSFLe1YjO0kAl3wQdq9M8kVav/H09rptzcJ4T8RBooXcb7RAuQCefn6Vx/w606NtAspJn82aeMTzSt1lkf53c+5Yk15mY4yWFprk3ZtRgptt7Ii0jxF4y8N3WpXktlpOpx6jeG8ngiElu6sURCEYs46RjgjrnkdvSvD/AIh03xpoTXVgZUwxinhkGya1lA5Vh/CwyCCOOQQSCDWfqOmwC0OAOlcn4KZtP+LUlvbnEOpaXK86Du8MkYRvymcfl6V5+XZlVq1lSq63NalOHJzR6HqFncNNGUnK/aIiFlC4AzjqBkkA9QCc4qxVaPP9qXHDBfKj5O7BOXzjIx6cgk+oGBmzX0ZyBRRRQAUUUUAFFFFABVO62R6hZStsDFnhDHaD8y7sAnnkoOF6/QVcqG7hee1dIX8uXho2JbAYHIyFIJGQMjIyMjvQB578QdCvrDXo/FmkW0t3GYFt9StoFLSbFJKTIo5YruYMByQQR92s+x+IWlzWHmQ6lbMmOT5yjH19D7GvULe8jnOwgxTD70MhG5eAT0JB4ZeQSOap3fhnQb+8+13+iabc3Oc+dNaRu/8A30RmvJxeWU8TP2idmbwrOKs1c8rsbeb4la1BBZI0mgwzLJf3xH7qYI2fIjP8ZYgBiOAueckCvaKrtd2VqojaeCFVGApdVAHyjp/wJf8Avoeopo1OxLbVuomPs2f7w/8AZH/75NdmFw0MNT5IGc5ubuy1RVQarYc/6XCMDPLY7Kf5On/fQpRqlgzbRe25bOMeauc5YevrG/8A3w3oa6iC1XlPjLTLvwl4qu/EdtBJNouolZbwwoWNnOqhS5Uc+WyquSPukEng5Hpg1OwPS+tjxniZemFPr6Oh/wCBL6ilGpWJfYLy3LZxtEq5zlhjr6o4/wCAt6GsK9CGIpunPZlwk4O6PMh8QdLOnecNTtDDtz5nnrtx9c1D4U0658beKLLWnhkj0HTZPtEM0qFfts4BCbAeTGud27oWC4zg13X9m+FJ5l1SLRLG5mdfNW5i00SO2VLghgmeQPXrgdSBWz9pnZ9sVnJjdgtIyquA2CepPTJHHOOorzsNlNOhU9o5XtsayrtqyVht8QJbI8b/ALQAgJGT8rZxlh/DuPc4B4NW6rW8ExdZ7xw0oXhIyQiZVdwx/FyCQxGQCR61Zr2DnCiiigAooooAKKKKAKthlEmhYYMU7jpxgncMfKo6MOmfQkkE15r450a88N+KLjxRY28tzpl8qHUFhQu9tKihRNtHJQoFDYHy7QehJHpc1s32gXNswSbAR8qMSKDwCcZ4y2MEcnnNNN3cRrmWwlJAyTC6uOjHjJBP3QOnVh2yRjXoQr03TnsyoScHdHmcHxB0t9NEqanaNFtz5gnXb+eareG7C48e+JrLU1idfD+nTrdC5dSovZkOY1jz1RWwxfoSoAzzjv5dK8My3015c+HrdrqJ23XD6VuckKGJDbCW69R1OQOa2Bf2u7Z5m0htgDKV53FMc+4IrzMNlNOjUVRyvbY2lXbVkrFmiqf9r6d5XmG/tggXcWMqgAbQ+fptIb6HNPGpWJfYLy3Lbtu3zVzncUx167gV+ox1r2TnLNFU/wC19N8nzf7QtfL279/nrjbt35znptIbPpz0p/8AaVjv2fbLctu27RKM537MfXd8v14oAsMquhRwGVhggjgivFl874ZX39k6vuj0tX26bqL/AOqeL+GJ36LIo+XBxuABHcD14araND5sTvMm3cDDE8mRt38bQc5HT16DmiWYXKNC9hLPE52OJEUKRuKnIY8jjPTkdM1yYrCwxUOSZpCbg7o8w1T4gaZFZgy6hB83CqsgZnJ6BVHLH2Favw/0W6tb668VeIYJLO4vIhbWNk6EzRwZ3MzKOQzkAlf4QgzznHUaf4asrKb7RYaPpOkTMOXtLVDJyFJ+YKOh3DocjB46Vrw2cUMhk+aSQ9XkOT1OPp94iuXB5bTw0+e92XOs5LlSshtjA0ULSTKqzzt5ku3HDYAxkAbsABc9SAKs0UV6pgFFFFABRRRQAUUUUAFFFFAEc1vDcLtnhjlHo6hu4Pf3A/KoRpenht32G33Zznyl65Y+n/TR/wDvtvU1aooAjit4YFxBDHGPRFA7AdvYAfgKkorn/Hqhvh5r+4A7dPmdcjowQkEe4IBB9RQB0FFNQ5jXPoKdQAmB6CloooAKKKKACiiigAooooAKKKKACiiigAooooAKKKKACjFFFABgelFFFABRRRQAUUUUAFFFFABRRRQAUUUUAf/Z)"
      ]
    },
    {
      "cell_type": "markdown",
      "metadata": {
        "id": "Su7TjcYH5eTI"
      },
      "source": [
        "Với $n$ đỉnh và $m$ cạnh ban đầu, ta sử dụng các thuật toán duyệt trên đó thị để khảo sát tính liên thông của đồ thị (dfs, bfs, dsu,...)\n",
        "\n",
        "Giả sử đồ thị đó $k$ vùng liên thông khác nhau, số lượng đỉnh trong mỗi vùng lần lượt là: $s_1$,$s_2$,...$s_k$"
      ]
    },
    {
      "cell_type": "markdown",
      "metadata": {
        "id": "bN9NBU5Y5oVt"
      },
      "source": [
        "## **Trả lời câu hỏi thứ nhất**: \n",
        "Cần thêm ít nhất bao nhiêu cạnh? Dễ thấy chúng ta cần **$k-1$** cạnh."
      ]
    },
    {
      "cell_type": "markdown",
      "metadata": {
        "id": "QUVgf7Vj5te5"
      },
      "source": [
        "## **Trả lời câu hỏi thứ hai**: \n",
        "Có bao nhiêu cách để thêm số cạnh đó vào đồ thị? Nếu bạn đã làm quen với **Prüfer code**, bài toán của chúng ta cần giải là một ứng dụng của **Prüfer code**, bạn có thể tham khảo [tại đây](https://cp-algorithms.com/graph/pruefer_code.html#toc-tgt-8)\n",
        "\n",
        "Kết quả của bài toán là:  **$n^{k-2}*s_1*s_2*...*s_k$**\n",
        "\n",
        "Tuy nhiên **Prüfer code** là một bài toán khá phức tạp, chúng ta sẽ xem xét cần giải bài toán dưới dạng đơn giản hơn, tìm một cách chứng minh đơn giản hơn không cần sử dụng **Prüfer code**."
      ]
    },
    {
      "cell_type": "markdown",
      "metadata": {
        "id": "SO6bMXxT4tQy"
      },
      "source": [
        "Sau khi kiểm tra tính liên thông của đồ thị, chúng ta có $k$ vùng liên thông khác nhau.\n",
        "\n",
        "Ta coi mỗi vùng liên thông đó là một đỉnh, vậy bài toán của chúng ta phát biểu lại là: **Có bao nhiêu cách khác nhau thêm $k-1$ cung (cạnh có hướng) vào đồ thị có k đỉnh sao cho đồ thị đó trở thành cây**\n",
        "\n",
        "- Cách đếm 1: Giả sử chúng ta có **$T_k$ cách để thêm $k-1$ cạnh vào đồ thị $k$ đỉnh để đồ thị đó trở thành cây**, chúng ta có $k$ cách để chọn 1 đỉnh làm gốc, có $(k-1)!$ cách thêm $k-1$ cung vào đồ thị. Vậy số cách cần tính là $T_k*k*(k-1)=T_k*k!$\n",
        "- Cách đếm 2: Giả sử chúng ta đã thêm $i$ cung vào đồ thị, đồ thị có $k-i$ cùng liên thông, khi đó chúng ta thêm 1 cung mới bằng cách: chọn điểm xuất phát là 1 trong $k$ đỉnh, chọn điểm kết thúc là một gốc nào đó trong $k-i$ vùng còn lại. Vậy chúng ta có $k*(k-i)$ các để thêm 1 cạnh. Do đó số cách cần tính là:\n",
        "$\\displaystyle \\prod_{i=2}^{k} k*(i-1)=k^{k-1}*(k-1)!=k^{k-2}*k!$\n",
        "\n",
        "Vậy ta có $T_k*k!=k^{k-2}*k! \\Rightarrow T_k=k^{k-2}$ cách để thêm $k-1$ cạnh vào đồ thị $k$ đỉnh để đồ thị đó trở thành cây.\n",
        "\n",
        "Sau khi làm tới đây thì mình phát hiện ra mình bị ngây, đây là công thức Cayley (đọc là Cay Lậy cho nó gần gũi), và nó là một trường hợp nhỏ của Prüfer code. Do đó không thể dùng công thức này để giải ngược bài toán đầu bài."
      ]
    },
    {
      "cell_type": "markdown",
      "metadata": {
        "id": "ePkZLNfbxHPQ"
      },
      "source": [
        "##**4. Thực thi**\n",
        "--- "
      ]
    },
    {
      "cell_type": "markdown",
      "metadata": {
        "id": "eZND9HM643Nv"
      },
      "source": [
        "**Đọc dữ liệu**"
      ]
    },
    {
      "cell_type": "code",
      "metadata": {
        "colab": {
          "base_uri": "https://localhost:8080/"
        },
        "id": "x7bc_j3J49LT",
        "outputId": "99656049-422b-402c-b4fd-1d14d431c6c7"
      },
      "source": [
        "n, m = map(int, input().split())\n",
        "edges = {}\n",
        "for _ in range(m):\n",
        "    u, v = map(int, input().split())\n",
        "    try:\n",
        "        edges[u].append(v)\n",
        "    except:\n",
        "        edges[u] = [v]\n",
        "    try:\n",
        "        edges[v].append(u)\n",
        "    except:\n",
        "        edges[v] = [u]"
      ],
      "execution_count": 2,
      "outputs": [
        {
          "output_type": "stream",
          "text": [
            "3 1\n",
            "1 2\n"
          ],
          "name": "stdout"
        }
      ]
    },
    {
      "cell_type": "markdown",
      "metadata": {
        "id": "9mUpn0fa5DAo"
      },
      "source": [
        "**Hàm BFS tính số đỉnh trong 1 vùng liên thông**"
      ]
    },
    {
      "cell_type": "code",
      "metadata": {
        "id": "LCvNPuYO5F6e"
      },
      "source": [
        "def bfs(u, visited):\n",
        "    index = 0\n",
        "    queue = [u]\n",
        "    visited.add(u)  \n",
        "    while index < len(queue):\n",
        "        u = queue[index]\n",
        "        index += 1\n",
        "        if u not in edges:\n",
        "            continue\n",
        "        for v in edges[u]:\n",
        "            if v not in visited:\n",
        "                visited.add(v)\n",
        "                queue.append(v)\n",
        "    return len(queue)"
      ],
      "execution_count": 3,
      "outputs": []
    },
    {
      "cell_type": "markdown",
      "metadata": {
        "id": "44ns9iDC5Iwv"
      },
      "source": [
        "**Kiểm tra tính liên thông của đồ thị**"
      ]
    },
    {
      "cell_type": "code",
      "metadata": {
        "id": "vPDrl9ci5Mjz"
      },
      "source": [
        "ans = []\n",
        "visited = set()\n",
        "for i in range(1,n+1):\n",
        "    if i not in visited:\n",
        "        ans.append(bfs(i, visited))"
      ],
      "execution_count": 4,
      "outputs": []
    },
    {
      "cell_type": "markdown",
      "metadata": {
        "id": "PXPN_jy55TK0"
      },
      "source": [
        "**Đáp án**"
      ]
    },
    {
      "cell_type": "code",
      "metadata": {
        "colab": {
          "base_uri": "https://localhost:8080/"
        },
        "id": "HJHMrzHU3GnJ",
        "outputId": "a33e2a92-3be8-4c42-dad2-f0ee8ccb9a28"
      },
      "source": [
        "if len(ans) > 1:\n",
        "    base = int(1e9 + 7)\n",
        "    anw = 1\n",
        "    for _ in range(len(ans) - 2):\n",
        "        anw = (anw*n) % base\n",
        "    for x in ans:\n",
        "        anw = (anw * x) % base\n",
        "else:\n",
        "    anw = 0\n",
        "    \n",
        "print(len(ans) - 1)\n",
        "print(anw)"
      ],
      "execution_count": 5,
      "outputs": [
        {
          "output_type": "stream",
          "text": [
            "1\n",
            "2\n"
          ],
          "name": "stdout"
        }
      ]
    },
    {
      "cell_type": "markdown",
      "metadata": {
        "id": "uHABycd6weus"
      },
      "source": [
        "##**5. Kết quả trên wecode**\n",
        "--- "
      ]
    },
    {
      "cell_type": "markdown",
      "metadata": {
        "id": "-mY7jW1-xNkB"
      },
      "source": [
        "![picture](https://drive.google.com/uc?export=view&id=1kpEEXD6KhxkvClQgkKGxRctA9pOON0Xy)"
      ]
    }
  ]
}
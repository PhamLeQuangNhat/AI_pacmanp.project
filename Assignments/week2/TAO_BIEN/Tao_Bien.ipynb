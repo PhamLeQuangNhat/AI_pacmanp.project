{
  "nbformat": 4,
  "nbformat_minor": 0,
  "metadata": {
    "colab": {
      "name": "Tao Bien.ipynb",
      "provenance": [],
      "toc_visible": true,
      "include_colab_link": true
    },
    "kernelspec": {
      "name": "python3",
      "display_name": "Python 3"
    }
  },
  "cells": [
    {
      "cell_type": "markdown",
      "metadata": {
        "id": "view-in-github",
        "colab_type": "text"
      },
      "source": [
        "<a href=\"https://colab.research.google.com/github/PhamLeQuangNhat/AI_project/blob/master/Assignments/week2/TAO_BIEN/Tao_Bien.ipynb\" target=\"_parent\"><img src=\"https://colab.research.google.com/assets/colab-badge.svg\" alt=\"Open In Colab\"/></a>"
      ]
    },
    {
      "cell_type": "markdown",
      "metadata": {
        "id": "pa2Fj5KTLf3n",
        "colab_type": "text"
      },
      "source": [
        "**<h1><center>BÀI TẬP TUẦN 2 (17/09)</center></h1>**"
      ]
    },
    {
      "cell_type": "markdown",
      "metadata": {
        "id": "6xKnH-2hLsoe",
        "colab_type": "text"
      },
      "source": [
        "# **Thông tin nhóm: ID: n001**\n",
        "\n",
        "1. Phạm Lê Quang Nhật   - 18520120\n",
        "2. Nguyễn Xuân Dương    - 18520212\n",
        "3. Trần Đình Khang        - 18520072 \t"
      ]
    },
    {
      "cell_type": "markdown",
      "metadata": {
        "id": "I0CYY_B5Ma8x",
        "colab_type": "text"
      },
      "source": [
        "# **Bài 1. Tảo biển**\n",
        "-----"
      ]
    },
    {
      "cell_type": "markdown",
      "metadata": {
        "id": "DSzl37oGMfIm",
        "colab_type": "text"
      },
      "source": [
        "## **Đề bài**\n",
        "----"
      ]
    },
    {
      "cell_type": "markdown",
      "metadata": {
        "id": "N-skpLUDMkYr",
        "colab_type": "text"
      },
      "source": [
        "Tảo biển sinh sản rất nhanh khi có môi trường thuận lợi với chúng và có những loài còn tiết ra môi trường những chất độc hại.\n",
        "\n",
        "Một loại tảo nâu trong môi trường nước bị ô nhiễm nặng sinh sản theo quy luật sau:\n",
        "\n",
        "- Ngày đầu tiên (ngày 0) có n cá thể ở mức $1$,\n",
        "- Ở mỗi ngày tiếp theo, mỗi cá thể mức $i$ sinh ra i cá thể mức $1$, các cá thể mới sinh sẽ sinh sôi, phát triển từ ngày hôm sau.\n",
        "- Bản thân các cá thể mức $i$ phát triển thành mức $i+1$ và chu kỳ phát triển trong ngày chấm dứt.\n",
        "Hãy xác định sau k ngày trong nước biển có bao nhiêu cá thể.\n",
        "\n",
        "**Dữ liệu:** Vào từ thiết bị nhập chuẩn gồm một dòng chứa 2 số nguyên n và k ($1 \\le n \\le 1000, 1 \\le k \\le 10^{18}$).\n",
        "\n",
        "**Kết quả:** Đưa ra thiết bị xuất chuẩn một số nguyên – số lượng cá thể  tảo theo mô đun $10^9+7$."
      ]
    },
    {
      "cell_type": "markdown",
      "metadata": {
        "id": "xuVC2dokMwdc",
        "colab_type": "text"
      },
      "source": [
        "## **1. Tóm tắt bài toán**\n",
        "-----"
      ]
    },
    {
      "cell_type": "markdown",
      "metadata": {
        "id": "lX8QEO2iMz5G",
        "colab_type": "text"
      },
      "source": [
        "Từ n số ban đầu, hãy tìm số lượng số sau lần lặp thứ k với quy luật như sau:\n",
        "- n số ban đầu ở mức $1$.\n",
        "- Ở lần lặp thứ e, số có cấp $i$ sẽ sinh ra $i$ số cấp $1$."
      ]
    },
    {
      "cell_type": "markdown",
      "metadata": {
        "id": "ku5ew692NQbe",
        "colab_type": "text"
      },
      "source": [
        "### + Ví dụ:\n",
        "\n",
        "**Input:**\n",
        "> n = 3\n",
        ">\n",
        "> k = 5\n",
        "\n",
        "**Output:** \n",
        "> 678\n",
        "\n",
        "### + Giải thích:\n",
        "\n",
        "Ta ghi lại quá trình sinh ra các cá thể từ 1 bằng bảng dưới đây.\n",
        "\n",
        "| Ngày \t| Số lượng cá thể từng cấp \t| Tổng số lượng \t|\n",
        "|-\t|-\t|-\t|\n",
        "| 0 \t| - Cấp 1: 1 \t| 1 \t|\n",
        "| 1 \t| - Cấp 1: 1<br><br>- Cấp 2: 1 \t| 2 \t|\n",
        "| 2 \t| - Cấp 1: 3<br><br>- Cấp 2: 1<br><br>- Cấp 3: 1 \t| 5 \t|\n",
        "| 3 \t| - Cấp 1: 8<br><br>- Cấp 2: 3<br><br>- Cấp 3: 1<br><br>- Cấp 4: 1 \t| 13 \t|\n",
        "| 4 \t| - Cấp 1: 21<br><br>- Cấp 2: 8<br><br>- Cấp 3: 3<br><br>- Cấp 4: 1<br><br>- Cấp 5: 1 \t| 34 \t|\n",
        "| 5 \t| - Cấp 1: 55<br><br>- Cấp 2: 21<br><br>- Cấp 3: 8<br><br>- Cấp 4: 3<br><br>- Cấp 5: 1<br><br>- Cấp 6: 1 \t| 89 \t|\n",
        "\n",
        "Từ bảng trên ta có số lượng cá thể tại ngày thứ 5 có được từ 1 cá thể là 226. Ta tính được với 3 con ban đầu phát sinh được $226 \\times 3 = 678$ cá thể.\n"
      ]
    },
    {
      "cell_type": "markdown",
      "metadata": {
        "id": "-NN8MNiLNoEX",
        "colab_type": "text"
      },
      "source": [
        "## **2. Nhận diện khuôn mẫu**\n",
        "-----"
      ]
    },
    {
      "cell_type": "markdown",
      "metadata": {
        "id": "C6eFfEh9ifTg",
        "colab_type": "text"
      },
      "source": [
        "### **Dãy số Fibonacci:**"
      ]
    },
    {
      "cell_type": "markdown",
      "metadata": {
        "id": "pTP3hEIxikzp",
        "colab_type": "text"
      },
      "source": [
        "Để giải được bài toán ta phải tính được số lượng cá thể có được tại ngày thứ k do 1 cá thể phát sinh. Thống kê giá trị Tổng số lượng sau mỗi ngày ta có dãy số như sau.\n",
        "\n",
        "\n",
        "`1, 2, 5, 13, 34, 89, ...`"
      ]
    },
    {
      "cell_type": "markdown",
      "metadata": {
        "id": "5vRGjgrQiltN",
        "colab_type": "text"
      },
      "source": [
        "Các phần tử trong dãy số trên là các phần tử trong dãy số Fibonacy.\n",
        "\n",
        "`1, 1, 2, 3, 5, 8, 13, 21, 34, 55, 89, 144, ...`"
      ]
    },
    {
      "cell_type": "markdown",
      "metadata": {
        "id": "RdL-B0DViztL",
        "colab_type": "text"
      },
      "source": [
        "Khi đó bài toán trở thành: Cho 2 số nguyên dương n và k, hãy tính giá trị biểu thức $n \\times f(2k + 1)$, với f là hàm Fibonacci được định nghĩa dưới đây.\n",
        "\n",
        "\n",
        "**Định nghĩa hàm Fibonacci:**\n",
        "\n",
        "$$\n",
        "f(n) = \\begin{cases}\n",
        "    1       & \\quad \\text{if } 1 \\le n \\le 2\\\\\n",
        "    f(n - 1) + f(n - 2)  & \\quad \\text{if } n \\gt 2\n",
        "\\end{cases}\n",
        "$$"
      ]
    },
    {
      "cell_type": "markdown",
      "metadata": {
        "id": "8qyTaOh4i_gW",
        "colab_type": "text"
      },
      "source": [
        "## **3. Thiết kế thuật toán**\n",
        "-----"
      ]
    },
    {
      "cell_type": "markdown",
      "metadata": {
        "id": "KONTj9JxjLXq",
        "colab_type": "text"
      },
      "source": [
        "### **Đầu vào và đầu ra**"
      ]
    },
    {
      "cell_type": "markdown",
      "metadata": {
        "id": "ogH0viRgjOdV",
        "colab_type": "text"
      },
      "source": [
        "- **Input:** n, k\n",
        "- **Output:** $n \\times f(2*k + 1)$"
      ]
    },
    {
      "cell_type": "markdown",
      "metadata": {
        "id": "roTCeOU9G9cE",
        "colab_type": "text"
      },
      "source": [
        "### **3.1 Thuật Toán $O(k)$:** "
      ]
    },
    {
      "cell_type": "markdown",
      "metadata": {
        "id": "3kOhBhthHNZn",
        "colab_type": "text"
      },
      "source": [
        "+ **Ý Tưởng:** \n",
        "Thực hiện vòng lặp nhưng công thức truy hồi, nhưng vì dãy fibonaci chỉ quan tâm đến 2 phần tử liền trước nên ta có thể tiết kiệm bộ nhớ bằng cách dùng 2 biến $pre1$, $pre2$ để lưu 2 phần tử liền trước và cập nhật lại nó. "
      ]
    },
    {
      "cell_type": "markdown",
      "metadata": {
        "id": "eJxZuqbzjSts",
        "colab_type": "text"
      },
      "source": [
        "- **Pseudo code Fibonacci:**\n",
        "\n",
        "```\n",
        "fibonacy(k):\n",
        "    if k = 1 or k = 2:\n",
        "        return 1\n",
        "    pre1 := 1, pre2 := 1\n",
        "    loop from 3 to k do:\n",
        "        cur  := pre1 + pre2\n",
        "        pre2 := pre1\n",
        "        pre1 := cur\n",
        "    exit loop\n",
        "    return pre1\n",
        "```"
      ]
    },
    {
      "cell_type": "markdown",
      "metadata": {
        "id": "l-y6mYv9jUfJ",
        "colab_type": "text"
      },
      "source": [
        "### **3.2 Thuật Toán $O(log(k))$ :** "
      ]
    },
    {
      "cell_type": "markdown",
      "metadata": {
        "id": "vX0-E2c3meLg",
        "colab_type": "text"
      },
      "source": [
        "- **Ý tưởng:** Sử dụng kĩ thuật nhân ma trận.\n",
        " \n",
        "  - Giả sử $f(0) = 0$.\n",
        "  Ta có: \n",
        "\n",
        "\n",
        "  \\begin{equation}\n",
        "    \\begin{bmatrix}\n",
        "    1 & 1 \\\\ 1 & 0\n",
        "    \\end{bmatrix} \n",
        "    \\begin{bmatrix}\n",
        "    f(1) \\\\\n",
        "    f(0)\n",
        "    \\end{bmatrix}\n",
        "    = \n",
        "    \\begin{bmatrix}\n",
        "    f(2) \\\\\n",
        "    f(1)\n",
        "    \\end{bmatrix}\n",
        "  \\end{equation}\n",
        "\n",
        "  \n",
        "  \\begin{equation}\n",
        "    \\begin{bmatrix}\n",
        "    1 & 1 \\\\ 1 & 0\n",
        "    \\end{bmatrix} ^ {2}\n",
        "    \\begin{bmatrix}\n",
        "    f(1) \\\\\n",
        "    f(0)\n",
        "    \\end{bmatrix}\n",
        "    = \n",
        "    \\begin{bmatrix}\n",
        "    f(3) \\\\\n",
        "    f(2)\n",
        "    \\end{bmatrix}\\\\\n",
        "    \\dots \\\\\n",
        "    \\dots \\\\\n",
        "    \\dots\n",
        "  \\end{equation}\n",
        "  \n",
        "\\begin{equation}\n",
        "    \\begin{bmatrix}\n",
        "      1 & 1 \\\\\n",
        "      1 & 0\n",
        "    \\end{bmatrix} ^ {n - 1}\n",
        "    \\begin{bmatrix}\n",
        "    f(1) \\\\\n",
        "    f(0)\n",
        "    \\end{bmatrix}\n",
        "    = \n",
        "    \\begin{bmatrix}\n",
        "    f(n) \\\\\n",
        "    f(n - 1)\n",
        "    \\end{bmatrix}\n",
        "\\end{equation}\n",
        "\n",
        "- Sau khi đã phân tích xong, bây giờ điều quan trong là tính \\begin{equation}\n",
        "  \\begin{bmatrix}\n",
        "  1 & 1 \\\\\n",
        "  1 & 0\n",
        "  \\end{bmatrix} ^ {n - 1}\n",
        "\\end{equation} trong thời gian chấp nhận được.\n",
        "\n",
        "- Ta có thể tính $X^{y} (X \\in M_n)$ trong thời gian $O(log(y))$ bằng phương pháp sau:\n",
        "  - Đặt $power(X,y) = X^{y}$. Thì ta sẽ có công thức truy hồi:\n",
        "\n",
        "  $$\n",
        "    power(X,y) = \\begin{cases}\n",
        "    X & \\quad \\text{if } y = 1 \\\\\n",
        "    power(X,k) \\times power(X,k) & \\quad \\text{if } y = 2k \\\\\n",
        "    power(X,k) \\times power(X,k) \\times X & \\quad \\text{if } y = 2k + 1 \n",
        "    \\end{cases}\n",
        "  $$\n",
        "\n",
        "- Như vậy ta sẽ thiết lập đoạn code lũy thừa ma trận bằng mã giả như sau."
      ]
    },
    {
      "cell_type": "markdown",
      "metadata": {
        "id": "i0qeSqBVDo9g",
        "colab_type": "text"
      },
      "source": [
        "- **Psedo Code:**\n",
        "\n",
        "```\n",
        "power(x,y):\n",
        "   if y is 1:\n",
        "      return x\n",
        "   k := y div 2\n",
        "   half_power := power(x,k)\n",
        "   if y is even:\n",
        "      powerx_y = half_power * half_power\n",
        "   if y is odd:\n",
        "      powerx_y = half_power * half_power * x\n",
        "\n",
        "   return powerx_y\n",
        "  \n",
        "```"
      ]
    },
    {
      "cell_type": "markdown",
      "metadata": {
        "id": "_MFiMsnXEmGc",
        "colab_type": "text"
      },
      "source": [
        "## **4. Thực hiện**\n"
      ]
    },
    {
      "cell_type": "markdown",
      "metadata": {
        "id": "m_rsTEajEutz",
        "colab_type": "text"
      },
      "source": [
        "### **4.1 Thuật Toán $O(k)$:** "
      ]
    },
    {
      "cell_type": "code",
      "metadata": {
        "id": "QILaYj78I2Un",
        "colab_type": "code",
        "colab": {
          "base_uri": "https://localhost:8080/",
          "height": 52
        },
        "outputId": "0f81162d-6c17-45c5-d133-7dcdd0d37ecc"
      },
      "source": [
        "Mod = 1000000009\n",
        "def fib(k):\n",
        "    if k == 1 or k == 2: return 1\n",
        "    pre1 = pre2 = 1\n",
        "    for loop in range(3,k + 1):\n",
        "        cur = pre1 + pre2\n",
        "        pre2 = pre1\n",
        "        pre1 = cur\n",
        "    return pre1\n",
        "\n",
        "\n",
        "# Input\n",
        "n, k = map(int,input().split())\n",
        "res = (fib(2*k + 1)*n) % Mod\n",
        "print(res)"
      ],
      "execution_count": null,
      "outputs": [
        {
          "output_type": "stream",
          "text": [
            "3 2\n",
            "15\n"
          ],
          "name": "stdout"
        }
      ]
    },
    {
      "cell_type": "markdown",
      "metadata": {
        "id": "eH6GBr9EE9-7",
        "colab_type": "text"
      },
      "source": [
        "- **Nhận xét:** Mặc dù đã ra đúng kết quả nhưng với thuật toán $O(k)$ thì không thể chạy trong 1s với trường hợp $1 \\le k \\le 10^{18}$. Vì vậy, cần cải tiến thuật toán để có thể chạy với trường hợp $k$ lớn.  "
      ]
    },
    {
      "cell_type": "markdown",
      "metadata": {
        "id": "GFq_ERzUFJDf",
        "colab_type": "text"
      },
      "source": [
        "### **4.2 Thuật Toán $O(log(k))$ :** "
      ]
    },
    {
      "cell_type": "code",
      "metadata": {
        "id": "iNdx-UDQFIU8",
        "colab_type": "code",
        "colab": {}
      },
      "source": [
        "# Fibonacci Series using  \n",
        "# Optimized Method \n",
        "  \n",
        "# function that returns nth  \n",
        "# Fibonacci number  \n",
        "Mod = 1000000007\n",
        "def fib(n): \n",
        "      \n",
        "    F = [[1, 1], \n",
        "         [1, 0]] \n",
        "    if (n == 0): \n",
        "        return 0\n",
        "    power(F, n - 1) \n",
        "          \n",
        "    return F[0][0] "
      ],
      "execution_count": null,
      "outputs": []
    },
    {
      "cell_type": "code",
      "metadata": {
        "id": "PP332XQCFOUz",
        "colab_type": "code",
        "colab": {}
      },
      "source": [
        "def multiply(F, M): \n",
        "    global Mod  \n",
        "    x = (F[0][0] * M[0][0] % Mod + \n",
        "         F[0][1] * M[1][0] % Mod) % Mod \n",
        "    y = (F[0][0] * M[0][1] % Mod + \n",
        "         F[0][1] * M[1][1] % Mod) % Mod \n",
        "    z = (F[1][0] * M[0][0] % Mod + \n",
        "         F[1][1] * M[1][0] % Mod) % Mod\n",
        "    w = (F[1][0] * M[0][1] % Mod+ \n",
        "         F[1][1] * M[1][1] % Mod) % Mod\n",
        "      \n",
        "    F[0][0] = x \n",
        "    F[0][1] = y \n",
        "    F[1][0] = z \n",
        "    F[1][1] = w "
      ],
      "execution_count": null,
      "outputs": []
    },
    {
      "cell_type": "code",
      "metadata": {
        "id": "qXBIJBxDFUKD",
        "colab_type": "code",
        "colab": {
          "base_uri": "https://localhost:8080/",
          "height": 52
        },
        "outputId": "3c9490eb-e525-4ae3-c60e-73065a23b7a0"
      },
      "source": [
        "# Optimized version of \n",
        "# power() in method 4  \n",
        "def power(F, n): \n",
        "  \n",
        "    if( n == 0 or n == 1): \n",
        "        return; \n",
        "    M = [[1, 1], \n",
        "         [1, 0]]; \n",
        "          \n",
        "    power(F, n // 2) \n",
        "    multiply(F, F) \n",
        "          \n",
        "    if (n % 2 != 0): \n",
        "        multiply(F, M) \n",
        "\n",
        "n, k = map(int,input().split())\n",
        "fib_2k = fib(2*k + 1)\n",
        "res = (n*fib_2k) % Mod\n",
        "print(res)"
      ],
      "execution_count": null,
      "outputs": [
        {
          "output_type": "stream",
          "text": [
            "3 2\n",
            "15\n"
          ],
          "name": "stdout"
        }
      ]
    },
    {
      "cell_type": "markdown",
      "metadata": {
        "id": "0kPJZW-1naFA",
        "colab_type": "text"
      },
      "source": [
        "## **5. Submit Wecode**"
      ]
    },
    {
      "cell_type": "markdown",
      "metadata": {
        "id": "LrldJpE3ABRr",
        "colab_type": "text"
      },
      "source": [
        "![picture](https://drive.google.com/uc?export=view&id=1TOwzQwCRSN3KDFGg8ABk08wC9_kcIoep)"
      ]
    }
  ]
}